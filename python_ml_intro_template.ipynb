{
  "nbformat": 4,
  "nbformat_minor": 0,
  "metadata": {
    "colab": {
      "name": "python-ml-intro-template.ipynb",
      "provenance": [],
      "authorship_tag": "ABX9TyOQYMuS4QtuHehtAT1e552+",
      "include_colab_link": true
    },
    "kernelspec": {
      "name": "python3",
      "display_name": "Python 3"
    },
    "language_info": {
      "name": "python"
    }
  },
  "cells": [
    {
      "cell_type": "markdown",
      "metadata": {
        "id": "view-in-github",
        "colab_type": "text"
      },
      "source": [
        "<a href=\"https://colab.research.google.com/github/kwaldenphd/machine-learning-intro/blob/main/python_ml_intro_template.ipynb\" target=\"_parent\"><img src=\"https://colab.research.google.com/assets/colab-badge.svg\" alt=\"Open In Colab\"/></a>"
      ]
    },
    {
      "cell_type": "markdown",
      "source": [
        "# Getting Started With Machine Learning in Python\n",
        "\n",
        "Student name(s): **Enter your name here** (double click to edit)"
      ],
      "metadata": {
        "id": "cCPjTHZS4udx"
      }
    },
    {
      "cell_type": "markdown",
      "source": [
        "## Lab Notebook Questions"
      ],
      "metadata": {
        "id": "YMLv_23-ZQ56"
      }
    },
    {
      "cell_type": "markdown",
      "source": [
        "### <strong>Q1: Write a narrative that documents and describes your experience working through this lab. What challenges did you face, and how did you solve them? What did you learn about machine learning through this lab? How are you thinking about machine learning differently after this lab?\n",
        "<ul><li>You are welcome (but not required) to include Python code as part of that narrative.</li></ul></strong>\n"
      ],
      "metadata": {
        "id": "TU8VdOenZTLj"
      }
    },
    {
      "cell_type": "markdown",
      "source": [
        "**Answer Q1:** Your answer here (double click to edit)\n",
        "\n"
      ],
      "metadata": {
        "id": "ZRftVHWIWMrC"
      }
    },
    {
      "cell_type": "code",
      "source": [
        "# space for Q1 code (if needed, double click to edit)"
      ],
      "metadata": {
        "id": "dVk8oZzhXy4f"
      },
      "execution_count": null,
      "outputs": []
    },
    {
      "cell_type": "markdown",
      "source": [
        "# Sample Program from Lab"
      ],
      "metadata": {
        "id": "vdewhDGs4Njo"
      }
    },
    {
      "cell_type": "code",
      "source": [
        "# test train split\n",
        "X_train, X_test, y_train, y_test = train_test_split(\n",
        "    iris_dataset['data'], iris_dataset['target'], random_state=0)\n",
        "\n",
        "# create classifier\n",
        "knn = KNeighborsClassifier(n_neighbors=1)\n",
        "\n",
        "# fit model\n",
        "knn.fit(X_train, y_train)\n",
        "\n",
        "# output accuracy score\n",
        "print(\"Test set score: {:.2f}\".format(knn.score(X_test, y_test)))"
      ],
      "metadata": {
        "id": "rP7Z09ID4Pl4"
      },
      "execution_count": null,
      "outputs": []
    }
  ]
}